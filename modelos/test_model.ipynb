{
 "cells": [
  {
   "cell_type": "code",
   "execution_count": 1,
   "metadata": {},
   "outputs": [
    {
     "name": "stdout",
     "output_type": "stream",
     "text": [
      "1.18.5\n",
      "2.3.0\n",
      "3.5\n"
     ]
    }
   ],
   "source": [
    "import pickle\n",
    "import numpy as np\n",
    "import tensorflow as tf\n",
    "from tensorflow.keras.preprocessing.sequence import pad_sequences\n",
    "import nltk\n",
    "print(np.__version__)\n",
    "print(tf.__version__)\n",
    "print(nltk.__version__)"
   ]
  },
  {
   "cell_type": "code",
   "execution_count": 2,
   "metadata": {},
   "outputs": [],
   "source": [
    "# loading\n",
    "\n",
    "model_producto = tf.keras.models.load_model('model_producto.h5')\n",
    "model_prod = tf.keras.models.load_model('model_producto.h5')\n",
    "model_int = tf.keras.models.load_model('model_intencion.h5')\n",
    "model_mov = tf.keras.models.load_model('model_movimiento.h5')\n",
    "model_contx1 = tf.keras.models.load_model('model_contexto_1.h5')\n",
    "model_contx2 = tf.keras.models.load_model('model_contexto_2.h5')\n",
    "model_detalle = tf.keras.models.load_model('model_detalle.h5')\n",
    "\n",
    "with open('tokenizer.pickle', 'rb') as handle:\n",
    "    tokenizer = pickle.load(handle)\n",
    "    \n",
    "with open('all_stop_words.pickle', 'rb') as handle:\n",
    "    all_stop_words = pickle.load(handle)\n",
    "    \n",
    "with open('index_to_label_prod.pickle', 'rb') as handle:\n",
    "    index_to_label_prod = pickle.load(handle)\n",
    "with open('index_to_label_prod.pickle', 'rb') as handle:\n",
    "    index_to_label_prod = pickle.load(handle)\n",
    "with open('index_to_label_int.pickle', 'rb') as handle:\n",
    "    index_to_label_int = pickle.load(handle)\n",
    "with open('index_to_label_mov.pickle', 'rb') as handle:\n",
    "    index_to_label_mov = pickle.load(handle)\n",
    "with open('index_to_label_contx1.pickle', 'rb') as handle:\n",
    "    index_to_label_contx1 = pickle.load(handle)\n",
    "with open('index_to_label_contx2.pickle', 'rb') as handle:\n",
    "    index_to_label_contx2 = pickle.load(handle)\n",
    "with open('index_to_label_detalle.pickle', 'rb') as handle:\n",
    "    index_to_label_detalle = pickle.load(handle)"
   ]
  },
  {
   "cell_type": "code",
   "execution_count": 3,
   "metadata": {},
   "outputs": [],
   "source": [
    "dict_task = {}\n",
    "dict_task[\"Producto\"] = (model_prod, index_to_label_prod)\n",
    "dict_task[\"Intención\"] = (model_int, index_to_label_int)\n",
    "dict_task[\"Tipo de movimiento\"] = (model_mov, index_to_label_mov)\n",
    "dict_task[\"Contexto 1\"] = (model_contx1, index_to_label_contx1)\n",
    "dict_task[\"Contexto 2\"] = (model_contx2, index_to_label_contx2)\n",
    "dict_task[\"Detalle 1\"] = (model_detalle, index_to_label_detalle)"
   ]
  },
  {
   "cell_type": "code",
   "execution_count": 16,
   "metadata": {},
   "outputs": [],
   "source": [
    "def preprocess_text(input_text):\n",
    "    input_text = input_text.lower()\n",
    "    nltk_tokenizer = nltk.RegexpTokenizer(r\"\\w+\")\n",
    "    new_words = nltk_tokenizer.tokenize(input_text)\n",
    "    new_row = [word for word in new_words  if word not in all_stop_words]\n",
    "    \n",
    "    final_sentence = \" \".join(new_row)\n",
    "    return final_sentence\n",
    "\n",
    "def pad_text(text):\n",
    "    sequence = tokenizer.texts_to_sequences([text])\n",
    "    \n",
    "    max_length = 320\n",
    "    trunc_type='post'\n",
    "    padding_type='post'\n",
    "\n",
    "    padded = pad_sequences(sequence,maxlen=max_length, padding=padding_type, truncating=trunc_type)\n",
    "    return padded"
   ]
  },
  {
   "cell_type": "code",
   "execution_count": 114,
   "metadata": {},
   "outputs": [],
   "source": [
    "def predict_text(input_text, input_model, label_map):\n",
    "    final_sentence = preprocess_text(input_text)\n",
    "    \n",
    "    padded = pad_text(final_sentence)\n",
    "    \n",
    "    result = input_model.predict(padded)\n",
    "    result = np.array(result[0])\n",
    "    top_ind = result.argsort()[::-1][:3]\n",
    "    result_index = np.argmax(result)\n",
    "    predicted_class = label_map[result_index]\n",
    "    top_classes = [label_map[i] for i in top_ind]\n",
    "    top_values = result[top_ind]*100\n",
    "    response = {top_classes[0]: f\"{top_values[0]:.2f}%\",\n",
    "               top_classes[1]: f\"{top_values[1]:.2f}%\",\n",
    "               top_classes[2]: f\"{top_values[2]:.2f}%\"}\n",
    "    \n",
    "    return response"
   ]
  },
  {
   "cell_type": "code",
   "execution_count": 115,
   "metadata": {},
   "outputs": [],
   "source": [
    "new_text = \"Hola, soy asesor de línea de bebé A Tengo el gusto. Sí, mucho gusto, señorita. Agradecemos su paciencia debido a la contingencia. El número de asesores disponibles reducido. En qué puedo ayudarla? Si mire, lo que pasa es que hace ratito marque. Me dijeron que regresaría la llamada más o menos entre tres y siete de la noche. Por qué? Porque el día de ayer que la reposición de mi tarjeta ese es de la S o la de débito se ahorra. Entonces es que tenía yo en la tarjeta el día de ciento cuarenta y cuatro pesos retenidos hemos sido ocupado para hacer lo del pago porque lo que dicen que en cuanto se hacen depósitos de descuenta lo del pago de la tarjeta correcto. El día de hoy me hicieron donde Pues tío de seiscientos treinta y siete supone que la tarjeta el plástico costaba ciento ochenta. Entonces treinta y siete del depósito veo y los ciento cuarenta y cuatro que tenía que ya con eso completaba hoy Marco para checar mi saldo y me dicen que tengo cuatrocientos noventa y dos. Se supone que tenía que haber quedado seiscientos pesos y quería ver qué es lo que pasó muy bien. Le comento No se activó la tarjeta. El día de hoy me aparece la activación. Bueno, la activación aparece hasta el día de hoy, nueve de septiembre del dos mil veinte. Bueno, ya me entregaron el plato y me dijeron que fuera el casero hacerlo de la activación. Correcto. Muy bien. El día de hoy recibe un abono por seiscientos treinta y siete pesos. Correcto. La tarjeta literalmente estaba en ceros. El día de hoy recibe una buena por seiscientos treinta y siete pesos. Pero si alguien revisa la tarjeta y estaba en silencio ahí, en ciento cuarenta y cuatro, pero estaba el número negativo, es decir, al momento de activarla, se genera el pago, el cobro y el cobro se genera, pero en saldo negativo. Es decir, usted activa la tarjeta y en ese mismo instante, sistema le carga el monto de ciento cuarenta y cuatro presos con sesenta y tres centavos. Saldo negativo que se estaría cobrando el cobro de la tarjeta, que son ciento cuarenta y cinco pesos. Se manejan los ciento cuarenta y cuatro pesos con sesenta y tres centavos aquí. Al parecer, usted tenía un saldo disponible de cero seis centavos. Entonces el cero seis centavos se cobran estos ciento cuarenta y cuatro pesos, con sesenta y tres centavos se quedan en saldo negativo. Porque porque la tarjeta está literalmente en cero. Al momento de que usted le deposita la cantidad de seiscientos treinta y siete pesos, se toman los ciento cuarenta y cuatro punto sesenta y tres para cubrir el cargo del la reposición de tarjeta y usted se queda un saldo con cuatrocientos, noventa y dos pesos con treinta y siete centavos. Muy probablemente usted pensó que tenía los ciento cuarenta y cuatro pesos con sesenta y tres centavos a favor, pero no sé, ya los tenía en saldo negativo porque su cuenta estaba en cero. Es lo que yo tenía duda. Pues sí, era lo que yo tenía ahí de saldo de que ya tiene tiempo de la tarjeta o eran por lo ahora, por lo que se cobraba. Correcto, Es usted. Es decir, usted no tenía ni un solo centavo en bueno, tenía la Navidad de seis centavos en la cuenta, por lo cual pues únicamente le realizan el cargo de cuatro ciento cuarenta y cuatro pesos, con sesenta y tres centavos, ya que el cargo original es de ciento cuarenta y cinco pesos. En este caso se queda el restante. Por los centavos que se toman se queda el mensaje de ciento cuarenta y cuatro pesos, con sesenta y tres centavos de los cuales, como aparecen en saldo negativo, le tuvieron que tuvo que haber aparecido el signo de negativo de menos la pobreza. Saldo negativo. Entonces, al momento de que usted le deposita en la cantidad de seiscientos treinta y siete pesos, pues ese saldo se convierte en positivo, se cobra. Y usted se le descuenta la cantidad de ciento treinta y siete y se queda con el disponible de cuatrocientos noventa y dos punto treinta y siete. Ah, bueno, si es que yo tenía la duda de que bueno, se supone que alguien ciento cuarenta y cuatro. Ciento cuarenta y cuatro. Entonces, qué pasó? Ajá. Pero no está bien si nomas quería quitarme la verdad correcto, señorita, alguna otra información que puede apoyarla? Tendría que ir a tendría que ir al banco si quisiera que me lleguen las notificaciones de mi celular, del, de la de los depósitos. Muy bien, vamos a validar la información. No tiene usted activada la aplicación? Es que que creo que mi celular no me agarra la aplicación. Muy bien. En este caso, necesitaríamos que para que le lleguen las notificaciones o las alertas inicialmente, tener la aplicación móvil para que a partir de ahí se activó en las alertas y le lleguen todas las notificaciones respecto algún cargo, algún cobro, alguna compra por pensar que normal no llegarían. Podría ser con las alertas, señorita. Pero en este caso tendría que ser y activarlas directamente en sucursal. Bueno, sería todo entonces. Por último, su opinión es muy importante para nosotros. En las próximas horas en veremos a su correo electrónico una breve encuesta para calificar el servicio proporcionado en esta llamada. Sus comentando que ayudan a mejorar la atención en cada contacto. Puedo contar con usted, señorita? Bueno, y para poder a nombre de encuesta. Se lo agradecería bastante. Reitero mi nombre es Ismael. Asesor de línea de de uve A. Pase una excelente tarde. Igualmente. Gracias. Hasta luego.\""
   ]
  },
  {
   "cell_type": "code",
   "execution_count": 116,
   "metadata": {},
   "outputs": [
    {
     "name": "stdout",
     "output_type": "stream",
     "text": [
      "Producto:\t{'Cuenta de débito': '80.23%', 'Practicajas': '3.69%', 'Canales digitales /aplicaciones': '3.28%'}\n",
      "Intención:\t{'Duda/ Consulta': '60.16%', 'Reclamo (Queja)': '14.74%', 'Aclaración': '9.12%'}\n",
      "Tipo de movimiento:\t{'Información': '85.34%', 'Pago de servicios': '2.28%', 'Retiro': '2.11%'}\n",
      "Contexto 1:\t{'aplicación': '72.07%', 'Comercio/Tienda': '5.31%', 'Datos personales': '5.27%'}\n",
      "Contexto 2:\t{'se soluciona petición del cliente': '98.58%', 'ha consultado algo en el canal digital': '0.47%', 'He llamado varias veces': '0.26%'}\n",
      "Detalle 1:\t{'Información de cuenta': '85.37%', 'Incidencia del servicio': '3.22%', 'Bloqueo de operaciones': '3.08%'}\n"
     ]
    }
   ],
   "source": [
    "for column, (model, labels) in dict_task.items():\n",
    "    result = predict_text(new_text, model, labels)\n",
    "    print(f\"{column}:\\t{result}\")"
   ]
  },
  {
   "cell_type": "code",
   "execution_count": null,
   "metadata": {},
   "outputs": [],
   "source": []
  },
  {
   "cell_type": "code",
   "execution_count": null,
   "metadata": {},
   "outputs": [],
   "source": []
  },
  {
   "cell_type": "code",
   "execution_count": null,
   "metadata": {},
   "outputs": [],
   "source": []
  },
  {
   "cell_type": "code",
   "execution_count": null,
   "metadata": {},
   "outputs": [],
   "source": []
  },
  {
   "cell_type": "code",
   "execution_count": 38,
   "metadata": {},
   "outputs": [],
   "source": [
    "category = [\"Tarjeta de crédito\", \"Cuenta de débito\", \"Inversión\",\n",
    "            \"Cheques\", \"Seguros\", \"Sucursales\", \"Créditos\",\n",
    "            \"Canales digitales /aplicaciones\", \"Efectivo inmediato\",\n",
    "            \"Cajeros\", \"Practicajas\", \"Retiro sin tarjeta\",\n",
    "            \"Plan de pagos fijos\", \"Plan de apoyo\", \"Crédito de nomina\",\n",
    "            \"Puntos BBVA\", \"meses sin intereses\", \"Estado de cuenta\",\n",
    "            \"Intereses\", \"Comisiones\", \"tarjeta digital\", \"Apartados\",\n",
    "            \"Portabilidad de nómina\", \"cuenta de cheques\"]\n",
    "\n",
    "def predict_producto(input_text):\n",
    "    sentence = preprocess_text(input_text)\n",
    "    if \"cheque\" in sentence:\n",
    "        predicted_class = category[3]\n",
    "    elif \"efectivo\" and \"inmediato\" in sentence:\n",
    "        predicted_class = category[6]\n",
    "    elif \"nomina\" and \"credito\" in sentence:\n",
    "        predicted_class = category[8]\n",
    "    elif \"pago\" and \"fijo\" in sentence:\n",
    "        predicted_class = category[12]\n",
    "    elif \"plan\" and \"apoyo\" in sentence:\n",
    "        predicted_class = category[13]\n",
    "    elif \"puntos\" in sentence:\n",
    "        predicted_class = category[15]\n",
    "    elif \"comisiones\" in sentence:\n",
    "        predicted_class = category[19]\n",
    "    elif \"apartados\" in sentence:\n",
    "        predicted_class = category[21]\n",
    "    elif \"cuenta\" and \"cheques\" in sentence:\n",
    "        predicted_class = category[23]    \n",
    "    else:\n",
    "        padded = padd_text(sentence)\n",
    "    \n",
    "        result = model_producto.predict(padded)\n",
    "        #print(result)\n",
    "        result_index = np.argmax(result)\n",
    "        predicted_class = index_to_label[result_index]\n",
    "        \n",
    "    return predicted_class"
   ]
  },
  {
   "cell_type": "code",
   "execution_count": 39,
   "metadata": {},
   "outputs": [
    {
     "data": {
      "text/plain": [
       "'Cuenta de débito'"
      ]
     },
     "execution_count": 39,
     "metadata": {},
     "output_type": "execute_result"
    }
   ],
   "source": [
    "predict_producto(new_text)"
   ]
  },
  {
   "cell_type": "code",
   "execution_count": null,
   "metadata": {},
   "outputs": [],
   "source": []
  }
 ],
 "metadata": {
  "kernelspec": {
   "display_name": "Python 3.7 (ttf_cpu_230)",
   "language": "python",
   "name": "tf_cpu_230"
  },
  "language_info": {
   "codemirror_mode": {
    "name": "ipython",
    "version": 3
   },
   "file_extension": ".py",
   "mimetype": "text/x-python",
   "name": "python",
   "nbconvert_exporter": "python",
   "pygments_lexer": "ipython3",
   "version": "3.7.9"
  }
 },
 "nbformat": 4,
 "nbformat_minor": 4
}
